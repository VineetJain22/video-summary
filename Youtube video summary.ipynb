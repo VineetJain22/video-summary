{
 "cells": [
  {
   "cell_type": "code",
   "execution_count": null,
   "metadata": {},
   "outputs": [],
   "source": [
    "# Run this only once, if you the following packages are not installed already. \n",
    "!pip install openai\n",
    "!pip install youtube-transcript-api"
   ]
  },
  {
   "cell_type": "code",
   "execution_count": 17,
   "metadata": {},
   "outputs": [],
   "source": [
    "# importrequired Python libraries\n",
    "import os\n",
    "import openai\n",
    "import pandas as pd"
   ]
  },
  {
   "cell_type": "code",
   "execution_count": 18,
   "metadata": {},
   "outputs": [],
   "source": [
    "# Set your API key\n",
    "openai.api_key = \"xxx\" # replace xxx with your own Open AI gpt-3.5-turbo API key"
   ]
  },
  {
   "cell_type": "code",
   "execution_count": 19,
   "metadata": {},
   "outputs": [],
   "source": [
    "from youtube_transcript_api import YouTubeTranscriptApi"
   ]
  },
  {
   "cell_type": "code",
   "execution_count": 20,
   "metadata": {},
   "outputs": [],
   "source": [
    "#Key in  the ID of Youtube video that you wish to get a summary of.\n",
    "#For example, in the link https://www.youtube.com/watch?v=CWIOUo5MTZE, ID is CWIOUo5MTZE\n",
    "\n",
    "video_id = \"CWIOUo5MTZE\" \n",
    "transcript = YouTubeTranscriptApi.get_transcript(video_id)"
   ]
  },
  {
   "cell_type": "code",
   "execution_count": 21,
   "metadata": {},
   "outputs": [],
   "source": [
    "from youtube_transcript_api.formatters import JSONFormatter\n",
    "from youtube_transcript_api.formatters import TextFormatter\n",
    "\n",
    "formatter = TextFormatter()\n",
    "\n",
    "# .format_transcript(transcript) turns the transcript into a JSON string.\n",
    "text_formatted = formatter.format_transcript(transcript)"
   ]
  },
  {
   "cell_type": "code",
   "execution_count": 22,
   "metadata": {},
   "outputs": [
    {
     "data": {
      "text/plain": [
       "2270"
      ]
     },
     "execution_count": 22,
     "metadata": {},
     "output_type": "execute_result"
    }
   ],
   "source": [
    "text_formatted = text_formatted.replace(\"\\n\",\" \")\n",
    "len(text_formatted.split())\n",
    "#text_formatted"
   ]
  },
  {
   "cell_type": "code",
   "execution_count": 23,
   "metadata": {},
   "outputs": [],
   "source": [
    "def split_into_chunks(string, words_per_chunk=3000):\n",
    "    words = string.split()\n",
    "    num_chunks = len(words) // words_per_chunk\n",
    "    if len(words) % words_per_chunk != 0:\n",
    "        num_chunks += 1\n",
    "\n",
    "    chunks = []\n",
    "    for i in range(num_chunks):\n",
    "        start_index = i * words_per_chunk\n",
    "        end_index = start_index + words_per_chunk\n",
    "        chunk = \" \".join(words[start_index:end_index])\n",
    "        chunks.append(chunk)\n",
    "\n",
    "    return chunks\n",
    "\n",
    "input_string = text_formatted\n",
    "#input_string = \"This is a sample string containing more than 2500 words. We will split this string into chunks of 2500 words.\"\n",
    "chunked_strings = split_into_chunks(input_string, words_per_chunk=2500)\n",
    "\n",
    "\n"
   ]
  },
  {
   "cell_type": "code",
   "execution_count": 24,
   "metadata": {},
   "outputs": [
    {
     "data": {
      "text/plain": [
       "1"
      ]
     },
     "execution_count": 24,
     "metadata": {},
     "output_type": "execute_result"
    }
   ],
   "source": [
    "len(chunked_strings)"
   ]
  },
  {
   "cell_type": "code",
   "execution_count": 25,
   "metadata": {},
   "outputs": [
    {
     "name": "stdout",
     "output_type": "stream",
     "text": [
      "The transcript will be split into 1 parts. Summary of each part will be provided.\n",
      "\n",
      "\n",
      "Summary for part 1:\n",
      "- The African Union has been given membership of the G20 under the presidency of Prime Minister Modi.\n",
      "- Sunil Mittal, founder of bti Enterprises and chair of the B20 Africa Wing, has played a significant role in cultivating the India-Africa relationship.\n",
      "- The inclusion of the African Union in the G20 is seen as a major achievement and will be remembered fondly in Africa.\n",
      "- India's historic relationship with Africa has been revitalized through this inclusion, and Indian businesses will be more welcome in Africa than ever before.\n",
      "- China's approach to Africa has been focused on extractive businesses and securing contracts, leading to indebtedness in African countries.\n",
      "- India, on the other hand, has provided technology support, diplomatic and political support, and soft loans and grants without extracting minerals and metals from Africa.\n",
      "- Doing business in Africa has its challenges, such as infrastructure and currency depreciation, but the continent offers immense potential for growth.\n",
      "- The B20 Africa Integration Council focused on improving cross-border business within the African Union and highlighted agriculture and digital development as key areas.\n",
      "- Africa's growing population, particularly its young population, makes it an attractive market for goods and services.\n",
      "- India's leadership in relation to Africa holds promise for Indian businesses, and those looking to expand outside of India should focus on Africa.\n",
      "- The world is waking up to the potential of Africa, with President Biden committing $55 billion to Africa in the next three years.\n",
      "- Despite the challenges, Africa is becoming a major growth engine for the global economy.\n"
     ]
    }
   ],
   "source": [
    "MODEL = \"gpt-3.5-turbo\"\n",
    "print(f\"The transcript will be split into {len(chunked_strings)} parts. Summary of each part will be provided.\")\n",
    "summary_parts = \"\"\n",
    "for i, chunk in enumerate(chunked_strings):\n",
    "    #print(f\"Chunk {i+1}:\")\n",
    "    #print(chunk)\n",
    "    #print()\n",
    "    response = openai.ChatCompletion.create(\n",
    "    model=MODEL,\n",
    "    messages=[\n",
    "        {\"role\": \"system\", \"content\": \"You are a helpful assistant.\"},\n",
    "        {\"role\": \"user\", \"content\": f\"Summarize the provided transcript of a youtube video in bullet points. \\\n",
    "        The text of the transcript starts here:\\n\\n{chunk}\"}\n",
    "    ],\n",
    "    temperature=0\n",
    "    )\n",
    "\n",
    "    print(f\"\\n\\nSummary for part {i+1}:\")\n",
    "    print(response['choices'][0]['message']['content'])\n",
    "    summary_parts += response['choices'][0]['message']['content']"
   ]
  },
  {
   "cell_type": "code",
   "execution_count": null,
   "metadata": {},
   "outputs": [],
   "source": []
  }
 ],
 "metadata": {
  "kernelspec": {
   "display_name": "Python 3",
   "language": "python",
   "name": "python3"
  },
  "language_info": {
   "codemirror_mode": {
    "name": "ipython",
    "version": 3
   },
   "file_extension": ".py",
   "mimetype": "text/x-python",
   "name": "python",
   "nbconvert_exporter": "python",
   "pygments_lexer": "ipython3",
   "version": "3.7.4"
  }
 },
 "nbformat": 4,
 "nbformat_minor": 2
}
